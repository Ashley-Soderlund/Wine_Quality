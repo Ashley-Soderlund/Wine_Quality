{
 "cells": [
  {
   "cell_type": "code",
   "execution_count": 1,
   "id": "9b2cbc6f",
   "metadata": {},
   "outputs": [],
   "source": [
    "import ipywidgets as widgets\n",
    "from IPython.display import display, clear_output"
   ]
  },
  {
   "cell_type": "code",
   "execution_count": 44,
   "id": "13b7b268",
   "metadata": {},
   "outputs": [
    {
     "name": "stdout",
     "output_type": "stream",
     "text": [
      "Wine Quality Prediction Using Multiple Linear Regression, Decision Trees, and Random Forest Models\n"
     ]
    }
   ],
   "source": [
    "print(\"Wine Quality Prediction Using Multiple Linear Regression, Decision Trees, and Random Forest Models\")"
   ]
  },
  {
   "cell_type": "code",
   "execution_count": 3,
   "id": "449e58c8",
   "metadata": {},
   "outputs": [],
   "source": [
    "fa = (widgets.BoundedFloatText(\n",
    "    value=0,\n",
    "    min=0,\n",
    "    max=20,\n",
    "    step=0.1,\n",
    "    description='Fixed Acidity:',\n",
    "    disabled=False\n",
    "))"
   ]
  },
  {
   "cell_type": "code",
   "execution_count": 15,
   "id": "c7947021",
   "metadata": {},
   "outputs": [
    {
     "data": {
      "application/vnd.jupyter.widget-view+json": {
       "model_id": "2f108b1286d1479391f9d6c1cdd7e6e0",
       "version_major": 2,
       "version_minor": 0
      },
      "text/plain": [
       "BoundedFloatText(value=0.0, description='Fixed Acidity:', max=20.0, step=0.1)"
      ]
     },
     "metadata": {},
     "output_type": "display_data"
    }
   ],
   "source": [
    "display(fa)"
   ]
  },
  {
   "cell_type": "code",
   "execution_count": 6,
   "id": "a99a15be",
   "metadata": {},
   "outputs": [],
   "source": [
    "va = (widgets.BoundedFloatText(\n",
    "    value=0.0,\n",
    "    min=0,\n",
    "    max=5,\n",
    "    step=0.001,\n",
    "    description='Volatile Acidity:',\n",
    "    disabled=False\n",
    "))"
   ]
  },
  {
   "cell_type": "code",
   "execution_count": 16,
   "id": "a62896b8",
   "metadata": {},
   "outputs": [
    {
     "data": {
      "application/vnd.jupyter.widget-view+json": {
       "model_id": "a53f284faed143db95a642e7b45515ff",
       "version_major": 2,
       "version_minor": 0
      },
      "text/plain": [
       "BoundedFloatText(value=0.0, description='Volatile Acidity:', max=5.0, step=0.001)"
      ]
     },
     "metadata": {},
     "output_type": "display_data"
    }
   ],
   "source": [
    "display(va)"
   ]
  },
  {
   "cell_type": "code",
   "execution_count": 8,
   "id": "05cf5c39",
   "metadata": {},
   "outputs": [],
   "source": [
    "ca = (widgets.BoundedFloatText(\n",
    "    value=0,\n",
    "    min=0,\n",
    "    max=2,\n",
    "    step=0.01,\n",
    "    description='Citric Acid:',\n",
    "    disabled=False\n",
    "))"
   ]
  },
  {
   "cell_type": "code",
   "execution_count": 17,
   "id": "98524eb3",
   "metadata": {},
   "outputs": [
    {
     "data": {
      "application/vnd.jupyter.widget-view+json": {
       "model_id": "25c1cddbed1e4074b7f9418292d675c0",
       "version_major": 2,
       "version_minor": 0
      },
      "text/plain": [
       "BoundedFloatText(value=0.0, description='Citric Acid:', max=2.0, step=0.01)"
      ]
     },
     "metadata": {},
     "output_type": "display_data"
    }
   ],
   "source": [
    "display(ca)"
   ]
  },
  {
   "cell_type": "code",
   "execution_count": 10,
   "id": "35ccac01",
   "metadata": {},
   "outputs": [],
   "source": [
    "rs= (widgets.BoundedFloatText(\n",
    "    value=0,\n",
    "    min=0,\n",
    "    max=20,\n",
    "    step=0.01,\n",
    "    description='Residual Sugar:',\n",
    "    disabled=False\n",
    "))"
   ]
  },
  {
   "cell_type": "code",
   "execution_count": 18,
   "id": "0a5210ce",
   "metadata": {},
   "outputs": [
    {
     "data": {
      "application/vnd.jupyter.widget-view+json": {
       "model_id": "3dba8893944c4f809e665b150107c602",
       "version_major": 2,
       "version_minor": 0
      },
      "text/plain": [
       "BoundedFloatText(value=0.0, description='Residual Sugar:', max=20.0, step=0.01)"
      ]
     },
     "metadata": {},
     "output_type": "display_data"
    }
   ],
   "source": [
    "display(rs)"
   ]
  },
  {
   "cell_type": "code",
   "execution_count": 12,
   "id": "15bf699b",
   "metadata": {},
   "outputs": [],
   "source": [
    "cl = (widgets.BoundedFloatText(\n",
    "    value=0,\n",
    "    min=0,\n",
    "    max=2,\n",
    "    step=0.001,\n",
    "    description='Chlorides:',\n",
    "    disabled=False\n",
    "))"
   ]
  },
  {
   "cell_type": "code",
   "execution_count": 19,
   "id": "69931c0d",
   "metadata": {},
   "outputs": [
    {
     "data": {
      "application/vnd.jupyter.widget-view+json": {
       "model_id": "8a61c4ce9b5249c78a1219588ee87cbd",
       "version_major": 2,
       "version_minor": 0
      },
      "text/plain": [
       "BoundedFloatText(value=0.0, description='Chlorides:', max=2.0, step=0.001)"
      ]
     },
     "metadata": {},
     "output_type": "display_data"
    }
   ],
   "source": [
    "display(cl)"
   ]
  },
  {
   "cell_type": "code",
   "execution_count": 20,
   "id": "0f033565",
   "metadata": {},
   "outputs": [],
   "source": [
    "fsd = (widgets.BoundedIntText(\n",
    "    value=0,\n",
    "    min=0,\n",
    "    max=99,\n",
    "    step=1,\n",
    "    description='Free Sulfer Dioxide:',\n",
    "    disabled=False\n",
    "))"
   ]
  },
  {
   "cell_type": "code",
   "execution_count": 21,
   "id": "97a3c361",
   "metadata": {},
   "outputs": [
    {
     "data": {
      "application/vnd.jupyter.widget-view+json": {
       "model_id": "afff0ff1377e424ba2e58c9a2227160c",
       "version_major": 2,
       "version_minor": 0
      },
      "text/plain": [
       "BoundedIntText(value=0, description='Free Sulfer Dioxide:', max=99)"
      ]
     },
     "metadata": {},
     "output_type": "display_data"
    }
   ],
   "source": [
    "display(fsd)"
   ]
  },
  {
   "cell_type": "code",
   "execution_count": 22,
   "id": "00d39336",
   "metadata": {},
   "outputs": [],
   "source": [
    "tsd = (widgets.BoundedIntText(\n",
    "    value=0,\n",
    "    min=0,\n",
    "    max=199,\n",
    "    step=1,\n",
    "    description='Total Sulfer Dioxide:',\n",
    "    disabled=False\n",
    "))"
   ]
  },
  {
   "cell_type": "code",
   "execution_count": 23,
   "id": "cf538fd0",
   "metadata": {},
   "outputs": [
    {
     "data": {
      "application/vnd.jupyter.widget-view+json": {
       "model_id": "47bee23674eb426f8e0ca224a8020f53",
       "version_major": 2,
       "version_minor": 0
      },
      "text/plain": [
       "BoundedIntText(value=0, description='Total Sulfer Dioxide:', max=199)"
      ]
     },
     "metadata": {},
     "output_type": "display_data"
    }
   ],
   "source": [
    "display(tsd)"
   ]
  },
  {
   "cell_type": "code",
   "execution_count": 24,
   "id": "69d668e8",
   "metadata": {},
   "outputs": [],
   "source": [
    "dn = (widgets.BoundedFloatText(\n",
    "    value=0,\n",
    "    min=0,\n",
    "    max=5,\n",
    "    step=0.00001,\n",
    "    description='Density:',\n",
    "    disabled=False\n",
    "))"
   ]
  },
  {
   "cell_type": "code",
   "execution_count": 25,
   "id": "3cb391a5",
   "metadata": {},
   "outputs": [
    {
     "data": {
      "application/vnd.jupyter.widget-view+json": {
       "model_id": "ab305230134046de91af34b7dd566677",
       "version_major": 2,
       "version_minor": 0
      },
      "text/plain": [
       "BoundedFloatText(value=0.0, description='Density:', max=5.0, step=1e-05)"
      ]
     },
     "metadata": {},
     "output_type": "display_data"
    }
   ],
   "source": [
    "display(dn)"
   ]
  },
  {
   "cell_type": "code",
   "execution_count": 26,
   "id": "923946af",
   "metadata": {},
   "outputs": [],
   "source": [
    "pH = (widgets.BoundedFloatText(\n",
    "    value=0,\n",
    "    min=0,\n",
    "    max=4.5,\n",
    "    step=0.01,\n",
    "    description='pH:',\n",
    "    disabled=False\n",
    "))"
   ]
  },
  {
   "cell_type": "code",
   "execution_count": 27,
   "id": "de1c2c96",
   "metadata": {},
   "outputs": [
    {
     "data": {
      "application/vnd.jupyter.widget-view+json": {
       "model_id": "4c4cf2009af24014ac26380c671a1d0f",
       "version_major": 2,
       "version_minor": 0
      },
      "text/plain": [
       "BoundedFloatText(value=0.0, description='pH:', max=4.5, step=0.01)"
      ]
     },
     "metadata": {},
     "output_type": "display_data"
    }
   ],
   "source": [
    "display(pH)"
   ]
  },
  {
   "cell_type": "code",
   "execution_count": 28,
   "id": "09935992",
   "metadata": {},
   "outputs": [],
   "source": [
    "sl = (widgets.BoundedFloatText(\n",
    "    value=0,\n",
    "    min=0,\n",
    "    max=2,\n",
    "    step=0.01,\n",
    "    description='Sulphates:',\n",
    "    disabled=False\n",
    "))"
   ]
  },
  {
   "cell_type": "code",
   "execution_count": 29,
   "id": "88c8d485",
   "metadata": {},
   "outputs": [
    {
     "data": {
      "application/vnd.jupyter.widget-view+json": {
       "model_id": "6cb569bfeddf4b6b884b3c8407bb1fc9",
       "version_major": 2,
       "version_minor": 0
      },
      "text/plain": [
       "BoundedFloatText(value=0.0, description='Sulphates:', max=2.0, step=0.01)"
      ]
     },
     "metadata": {},
     "output_type": "display_data"
    }
   ],
   "source": [
    "display(sl)"
   ]
  },
  {
   "cell_type": "code",
   "execution_count": 35,
   "id": "fd9fd829",
   "metadata": {},
   "outputs": [],
   "source": [
    "al = (widgets.BoundedFloatText(\n",
    "    value=0,\n",
    "    min=0,\n",
    "    max=20,\n",
    "    step=0.1,\n",
    "    description='Alcohol:',\n",
    "    disabled=False\n",
    "))"
   ]
  },
  {
   "cell_type": "code",
   "execution_count": 37,
   "id": "0d00f2ed",
   "metadata": {},
   "outputs": [
    {
     "data": {
      "application/vnd.jupyter.widget-view+json": {
       "model_id": "fdf35b3bd076450bbbacb660c294211a",
       "version_major": 2,
       "version_minor": 0
      },
      "text/plain": [
       "BoundedFloatText(value=2.0, description='Alcohol:', max=20.0, step=0.1)"
      ]
     },
     "metadata": {},
     "output_type": "display_data"
    }
   ],
   "source": [
    "display(al)"
   ]
  },
  {
   "cell_type": "code",
   "execution_count": 52,
   "id": "c1946240",
   "metadata": {},
   "outputs": [
    {
     "data": {
      "application/vnd.jupyter.widget-view+json": {
       "model_id": "45135820fdc14ffc822ba1f4e364fab3",
       "version_major": 2,
       "version_minor": 0
      },
      "text/plain": [
       "Button(description='Enter', style=ButtonStyle())"
      ]
     },
     "metadata": {},
     "output_type": "display_data"
    },
    {
     "data": {
      "application/vnd.jupyter.widget-view+json": {
       "model_id": "8f124b0a65da492ab7ca1c016b23edad",
       "version_major": 2,
       "version_minor": 0
      },
      "text/plain": [
       "Output()"
      ]
     },
     "metadata": {},
     "output_type": "display_data"
    }
   ],
   "source": [
    "button = widgets.Button(description=\"Enter\")\n",
    "output = widgets.Output()\n",
    "\n",
    "display(button, output)\n",
    "@output.capture(al)\n",
    "def on_button_clicked(b):\n",
    "    result = al.value + sl.value + cl.value\n",
    "    print(\"Quality of Wine: \", result)\n",
    "    b.icon=\"warning\"\n",
    "\n",
    "button.on_click(on_button_clicked)"
   ]
  }
 ],
 "metadata": {
  "kernelspec": {
   "display_name": "Python 3 (ipykernel)",
   "language": "python",
   "name": "python3"
  },
  "language_info": {
   "codemirror_mode": {
    "name": "ipython",
    "version": 3
   },
   "file_extension": ".py",
   "mimetype": "text/x-python",
   "name": "python",
   "nbconvert_exporter": "python",
   "pygments_lexer": "ipython3",
   "version": "3.10.0"
  }
 },
 "nbformat": 4,
 "nbformat_minor": 5
}
