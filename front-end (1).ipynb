{
 "cells": [
  {
   "cell_type": "code",
   "execution_count": 1,
   "id": "9b2cbc6f",
   "metadata": {},
   "outputs": [],
   "source": [
    "import ipywidgets as widgets\n",
    "from IPython.display import display, clear_output"
   ]
  },
  {
   "cell_type": "code",
   "execution_count": 1,
   "id": "13b7b268",
   "metadata": {},
   "outputs": [
    {
     "name": "stdout",
     "output_type": "stream",
     "text": [
      "Wine Quality Prediction Using a Random Forest Model\n"
     ]
    }
   ],
   "source": [
    "print(\"Wine Quality Prediction Using a Random Forest Model\")"
   ]
  },
  {
   "cell_type": "code",
   "execution_count": 3,
   "id": "449e58c8",
   "metadata": {},
   "outputs": [],
   "source": [
    "fa = (widgets.BoundedFloatText(\n",
    "    value=0,\n",
    "    min=0,\n",
    "    max=20,\n",
    "    step=0.1,\n",
    "    description='Fixed Acidity:',\n",
    "    disabled=False\n",
    "))"
   ]
  },
  {
   "cell_type": "code",
   "execution_count": 4,
   "id": "c7947021",
   "metadata": {},
   "outputs": [
    {
     "data": {
      "application/vnd.jupyter.widget-view+json": {
       "model_id": "0421da00ef664653927f05d274fbaa14",
       "version_major": 2,
       "version_minor": 0
      },
      "text/plain": [
       "BoundedFloatText(value=0.0, description='Fixed Acidity:', max=20.0, step=0.1)"
      ]
     },
     "metadata": {},
     "output_type": "display_data"
    }
   ],
   "source": [
    "display(fa)"
   ]
  },
  {
   "cell_type": "code",
   "execution_count": 5,
   "id": "a99a15be",
   "metadata": {},
   "outputs": [],
   "source": [
    "va = (widgets.BoundedFloatText(\n",
    "    value=0.0,\n",
    "    min=0,\n",
    "    max=5,\n",
    "    step=0.001,\n",
    "    description='Volatile Acidity:',\n",
    "    disabled=False\n",
    "))"
   ]
  },
  {
   "cell_type": "code",
   "execution_count": 6,
   "id": "a62896b8",
   "metadata": {},
   "outputs": [
    {
     "data": {
      "application/vnd.jupyter.widget-view+json": {
       "model_id": "309eae7615d64bf5bc94c70c9429effd",
       "version_major": 2,
       "version_minor": 0
      },
      "text/plain": [
       "BoundedFloatText(value=0.0, description='Volatile Acidity:', max=5.0, step=0.001)"
      ]
     },
     "metadata": {},
     "output_type": "display_data"
    }
   ],
   "source": [
    "display(va)"
   ]
  },
  {
   "cell_type": "code",
   "execution_count": 7,
   "id": "05cf5c39",
   "metadata": {},
   "outputs": [],
   "source": [
    "ca = (widgets.BoundedFloatText(\n",
    "    value=0,\n",
    "    min=0,\n",
    "    max=2,\n",
    "    step=0.01,\n",
    "    description='Citric Acid:',\n",
    "    disabled=False\n",
    "))"
   ]
  },
  {
   "cell_type": "code",
   "execution_count": 8,
   "id": "98524eb3",
   "metadata": {},
   "outputs": [
    {
     "data": {
      "application/vnd.jupyter.widget-view+json": {
       "model_id": "6c3fa1a7302c4be7a86a88bc5a038b93",
       "version_major": 2,
       "version_minor": 0
      },
      "text/plain": [
       "BoundedFloatText(value=0.0, description='Citric Acid:', max=2.0, step=0.01)"
      ]
     },
     "metadata": {},
     "output_type": "display_data"
    }
   ],
   "source": [
    "display(ca)"
   ]
  },
  {
   "cell_type": "code",
   "execution_count": 9,
   "id": "35ccac01",
   "metadata": {},
   "outputs": [],
   "source": [
    "rs= (widgets.BoundedFloatText(\n",
    "    value=0,\n",
    "    min=0,\n",
    "    max=20,\n",
    "    step=0.01,\n",
    "    description='Residual Sugar:',\n",
    "    disabled=False\n",
    "))"
   ]
  },
  {
   "cell_type": "code",
   "execution_count": 10,
   "id": "0a5210ce",
   "metadata": {},
   "outputs": [
    {
     "data": {
      "application/vnd.jupyter.widget-view+json": {
       "model_id": "c9d079d178aa4a66829dafa894a10ceb",
       "version_major": 2,
       "version_minor": 0
      },
      "text/plain": [
       "BoundedFloatText(value=0.0, description='Residual Sugar:', max=20.0, step=0.01)"
      ]
     },
     "metadata": {},
     "output_type": "display_data"
    }
   ],
   "source": [
    "display(rs)"
   ]
  },
  {
   "cell_type": "code",
   "execution_count": 11,
   "id": "15bf699b",
   "metadata": {},
   "outputs": [],
   "source": [
    "cl = (widgets.BoundedFloatText(\n",
    "    value=0,\n",
    "    min=0,\n",
    "    max=2,\n",
    "    step=0.001,\n",
    "    description='Chlorides:',\n",
    "    disabled=False\n",
    "))"
   ]
  },
  {
   "cell_type": "code",
   "execution_count": 12,
   "id": "69931c0d",
   "metadata": {},
   "outputs": [
    {
     "data": {
      "application/vnd.jupyter.widget-view+json": {
       "model_id": "db0595e03f1f4bfe8899ebf20368dde9",
       "version_major": 2,
       "version_minor": 0
      },
      "text/plain": [
       "BoundedFloatText(value=0.0, description='Chlorides:', max=2.0, step=0.001)"
      ]
     },
     "metadata": {},
     "output_type": "display_data"
    }
   ],
   "source": [
    "display(cl)"
   ]
  },
  {
   "cell_type": "code",
   "execution_count": 13,
   "id": "0f033565",
   "metadata": {},
   "outputs": [],
   "source": [
    "fsd = (widgets.BoundedIntText(\n",
    "    value=0,\n",
    "    min=0,\n",
    "    max=99,\n",
    "    step=1,\n",
    "    description='Free Sulfer Dioxide:',\n",
    "    disabled=False\n",
    "))"
   ]
  },
  {
   "cell_type": "code",
   "execution_count": 14,
   "id": "97a3c361",
   "metadata": {},
   "outputs": [
    {
     "data": {
      "application/vnd.jupyter.widget-view+json": {
       "model_id": "43202c0e92d74c3682514e0bca1e4b12",
       "version_major": 2,
       "version_minor": 0
      },
      "text/plain": [
       "BoundedIntText(value=0, description='Free Sulfer Dioxide:', max=99)"
      ]
     },
     "metadata": {},
     "output_type": "display_data"
    }
   ],
   "source": [
    "display(fsd)"
   ]
  },
  {
   "cell_type": "code",
   "execution_count": 15,
   "id": "00d39336",
   "metadata": {},
   "outputs": [],
   "source": [
    "tsd = (widgets.BoundedIntText(\n",
    "    value=0,\n",
    "    min=0,\n",
    "    max=199,\n",
    "    step=1,\n",
    "    description='Total Sulfer Dioxide:',\n",
    "    disabled=False\n",
    "))"
   ]
  },
  {
   "cell_type": "code",
   "execution_count": 16,
   "id": "cf538fd0",
   "metadata": {},
   "outputs": [
    {
     "data": {
      "application/vnd.jupyter.widget-view+json": {
       "model_id": "e8f742c48d6e482d9ee90b971954ba62",
       "version_major": 2,
       "version_minor": 0
      },
      "text/plain": [
       "BoundedIntText(value=0, description='Total Sulfer Dioxide:', max=199)"
      ]
     },
     "metadata": {},
     "output_type": "display_data"
    }
   ],
   "source": [
    "display(tsd)"
   ]
  },
  {
   "cell_type": "code",
   "execution_count": 17,
   "id": "69d668e8",
   "metadata": {},
   "outputs": [],
   "source": [
    "dn = (widgets.BoundedFloatText(\n",
    "    value=0,\n",
    "    min=0,\n",
    "    max=5,\n",
    "    step=0.00001,\n",
    "    description='Density:',\n",
    "    disabled=False\n",
    "))"
   ]
  },
  {
   "cell_type": "code",
   "execution_count": 18,
   "id": "3cb391a5",
   "metadata": {},
   "outputs": [
    {
     "data": {
      "application/vnd.jupyter.widget-view+json": {
       "model_id": "311fafe80a0f4527a2a0612aac83ed97",
       "version_major": 2,
       "version_minor": 0
      },
      "text/plain": [
       "BoundedFloatText(value=0.0, description='Density:', max=5.0, step=1e-05)"
      ]
     },
     "metadata": {},
     "output_type": "display_data"
    }
   ],
   "source": [
    "display(dn)"
   ]
  },
  {
   "cell_type": "code",
   "execution_count": 19,
   "id": "923946af",
   "metadata": {},
   "outputs": [],
   "source": [
    "pH = (widgets.BoundedFloatText(\n",
    "    value=0,\n",
    "    min=0,\n",
    "    max=4.5,\n",
    "    step=0.01,\n",
    "    description='pH:',\n",
    "    disabled=False\n",
    "))"
   ]
  },
  {
   "cell_type": "code",
   "execution_count": 20,
   "id": "de1c2c96",
   "metadata": {},
   "outputs": [
    {
     "data": {
      "application/vnd.jupyter.widget-view+json": {
       "model_id": "df4c91f71dd14a5f80fda0f85bee8949",
       "version_major": 2,
       "version_minor": 0
      },
      "text/plain": [
       "BoundedFloatText(value=0.0, description='pH:', max=4.5, step=0.01)"
      ]
     },
     "metadata": {},
     "output_type": "display_data"
    }
   ],
   "source": [
    "display(pH)"
   ]
  },
  {
   "cell_type": "code",
   "execution_count": 21,
   "id": "09935992",
   "metadata": {},
   "outputs": [],
   "source": [
    "sl = (widgets.BoundedFloatText(\n",
    "    value=0,\n",
    "    min=0,\n",
    "    max=2,\n",
    "    step=0.01,\n",
    "    description='Sulphates:',\n",
    "    disabled=False\n",
    "))"
   ]
  },
  {
   "cell_type": "code",
   "execution_count": 22,
   "id": "88c8d485",
   "metadata": {},
   "outputs": [
    {
     "data": {
      "application/vnd.jupyter.widget-view+json": {
       "model_id": "f402eea737f54245bdbe6ef21b2b475e",
       "version_major": 2,
       "version_minor": 0
      },
      "text/plain": [
       "BoundedFloatText(value=0.0, description='Sulphates:', max=2.0, step=0.01)"
      ]
     },
     "metadata": {},
     "output_type": "display_data"
    }
   ],
   "source": [
    "display(sl)"
   ]
  },
  {
   "cell_type": "code",
   "execution_count": 23,
   "id": "fd9fd829",
   "metadata": {},
   "outputs": [],
   "source": [
    "al = (widgets.BoundedFloatText(\n",
    "    value=0,\n",
    "    min=0,\n",
    "    max=20,\n",
    "    step=0.1,\n",
    "    description='Alcohol:',\n",
    "    disabled=False\n",
    "))"
   ]
  },
  {
   "cell_type": "code",
   "execution_count": 24,
   "id": "0d00f2ed",
   "metadata": {},
   "outputs": [
    {
     "data": {
      "application/vnd.jupyter.widget-view+json": {
       "model_id": "9b764d8a2df64fb19a0093abfefd0aac",
       "version_major": 2,
       "version_minor": 0
      },
      "text/plain": [
       "BoundedFloatText(value=0.0, description='Alcohol:', max=20.0, step=0.1)"
      ]
     },
     "metadata": {},
     "output_type": "display_data"
    }
   ],
   "source": [
    "display(al)"
   ]
  },
  {
   "cell_type": "code",
   "execution_count": 25,
   "id": "c1946240",
   "metadata": {},
   "outputs": [
    {
     "data": {
      "application/vnd.jupyter.widget-view+json": {
       "model_id": "6d8ec198fdf14dbcbc99bd0355d01ea5",
       "version_major": 2,
       "version_minor": 0
      },
      "text/plain": [
       "Button(description='Enter', style=ButtonStyle())"
      ]
     },
     "metadata": {},
     "output_type": "display_data"
    },
    {
     "data": {
      "application/vnd.jupyter.widget-view+json": {
       "model_id": "84ea3b1dbd5746b7a31827a067658cc3",
       "version_major": 2,
       "version_minor": 0
      },
      "text/plain": [
       "Output()"
      ]
     },
     "metadata": {},
     "output_type": "display_data"
    }
   ],
   "source": [
    "import pandas as pd\n",
    "button = widgets.Button(description=\"Enter\")\n",
    "output = widgets.Output()\n",
    "\n",
    "display(button, output)\n",
    "@output.capture(al)\n",
    "def on_button_clicked(b):\n",
    "    from Methods import prediction\n",
    "    data = {'fixed acidity':[fa.value], 'volatile acidity':[va.value],\n",
    "            'citric acid':[ca.value], 'residual sugar':[rs.value],\n",
    "            'chlorides':[cl.value], 'free sulfur dioxide':[fsd.value],\n",
    "            'total sulfur dioxide':[tsd.value],'density':[dn.value],\n",
    "            'pH':[pH.value], 'sulphates':[sl.value],'alcohol':[al.value]\n",
    "            \n",
    "           }\n",
    "    inputwine = pd.DataFrame(data, index = ['fixed acidity',\n",
    "                                            'volatile acidity',\n",
    "                                            'citric acid',\n",
    "                                            'residual sugar',\n",
    "                                            'chlorides',\n",
    "                                            'free sulfur dioxide',\n",
    "                                            'total sulfur dioxide',\n",
    "                                            'density',\n",
    "                                            'pH',\n",
    "                                            'sulphates',\n",
    "                                            'alcohol'\n",
    "                                             \n",
    "    ])\n",
    "    newResult = prediction(inputwine)\n",
    "    print(\"Quality of Wine: \", newResult)\n",
    "    b.icon=\"warning\"\n",
    "\n",
    "button.on_click(on_button_clicked)"
   ]
  },
  {
   "cell_type": "code",
   "execution_count": null,
   "id": "68697c93",
   "metadata": {},
   "outputs": [],
   "source": []
  }
 ],
 "metadata": {
  "kernelspec": {
   "display_name": "Python 3 (ipykernel)",
   "language": "python",
   "name": "python3"
  },
  "language_info": {
   "codemirror_mode": {
    "name": "ipython",
    "version": 3
   },
   "file_extension": ".py",
   "mimetype": "text/x-python",
   "name": "python",
   "nbconvert_exporter": "python",
   "pygments_lexer": "ipython3",
   "version": "3.10.0"
  }
 },
 "nbformat": 4,
 "nbformat_minor": 5
}
